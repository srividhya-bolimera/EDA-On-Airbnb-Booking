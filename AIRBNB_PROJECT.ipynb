{
  "nbformat": 4,
  "nbformat_minor": 0,
  "metadata": {
    "colab": {
      "private_outputs": true,
      "provenance": []
    },
    "kernelspec": {
      "name": "python3",
      "display_name": "Python 3"
    },
    "language_info": {
      "name": "python"
    }
  },
  "cells": [
    {
      "cell_type": "markdown",
      "source": [
        "# **Project Name**    -AirBnb Bookings Analysis\n",
        "\n"
      ],
      "metadata": {
        "id": "vncDsAP0Gaoa"
      }
    },
    {
      "cell_type": "markdown",
      "source": [
        "##### **Project Type**    - EDA(Exploratory data analysis)\n"
      ],
      "metadata": {
        "id": "beRrZCGUAJYm"
      }
    },
    {
      "cell_type": "markdown",
      "source": [
        "# **Project Summary -**"
      ],
      "metadata": {
        "id": "FJNUwmbgGyua"
      }
    },
    {
      "cell_type": "markdown",
      "source": [
        "The Airbnb NYC 2019 dataset contains detailed information on Airbnb listings across New York City, including attributes like location, room type, price, and availability. The dataset includes around 49,000 instances, with 16 different attributes.\n",
        "\n",
        "\n",
        "\n",
        "**The dataset includes the following key columns:**\n",
        "\n",
        "**id:** Unique listing id.\n",
        "\n",
        "**name:** Name of the property.\n",
        "\n",
        "**host_id:** Unique identifier for each listed host.\n",
        "\n",
        "**host_name:** Name of the host.\n",
        "\n",
        "**neighbourhood_group:** Location  \n",
        "\n",
        "**neighbourhood:** Area\n",
        "\n",
        "**latitude:** Latitude coordinates\n",
        "\n",
        "**longitude:** Longitude coordinates\n",
        "\n",
        "**room_type:** Type of room being rented (e.g., Entire home/apt, Private room).\n",
        "\n",
        "**price:** Price per night for renting the property.\n",
        "\n",
        "**minimum_nights:** Minimum number of nights required for a booking or stay\n",
        "\n",
        "**number_of_reviews:** Number of reviews written for the listing\n",
        "\n",
        "**last_review:** Date of the most recent review.\n",
        "\n",
        "**reviews_per_month:** Average number of reviews per month.\n",
        "\n",
        "**calculated_host_listings_count:** Total no of listings aganist the host id\n",
        "\n",
        "**availability_365:** Number of days when listing is available for booking\n",
        "\n",
        "\n",
        "\n",
        "\n",
        "\n",
        "The goal of this project is to perform Exploratory Data Analysis (EDA) on the Airbnb NYC 2019 dataset. EDA involves examining the dataset to find useful insights and patterns. By analyzing this data, we aim to discover how different factors affect property prices, understand which neighborhoods are more popular, and identify trends that can be useful for Airbnb hosts and potential guests.\n",
        "\n",
        "Data Analysis:\n",
        "Price Distribution: We examined how prices are distributed across different listings. This analysis showed that most properties are priced between 75 dollars and 500 dollars per night. There are fewer properties with very high or very low prices.\n",
        "\n",
        "Room Type Analysis: We explored the different types of rooms available. We found that entire apartments or homes are the most common, followed by private rooms. Shared rooms are less common.\n",
        "\n",
        "Neighborhood Insights: By analyzing the locations of the properties, we discovered which neighborhoods are most popular and which have the highest prices. Manhattan generally has higher prices compared to other boroughs, while some neighborhoods in Brooklyn and Queens offer more affordable options.\n",
        "\n",
        "Correlation Analysis: We looked at how different factors like price, number of reviews, and availability relate to each other. For example, properties with higher prices tend to have fewer reviews, possibly indicating that high-end properties are booked less frequently but at a higher rate.\n",
        "\n",
        "The exploratory data analysis of the Airbnb NYC 2019 dataset provided valuable insights into the rental market in New York City. We learned about the distribution of prices, the popularity of different room types, and the variation in property prices across neighborhoods. These insights can help Airbnb hosts price their properties more effectively and guide guests in choosing accommodations based on their budget and preferences. Overall, this analysis helps in understanding the dynamics of the Airbnb market in NYC and can inform future decisions for both hosts and guests."
      ],
      "metadata": {
        "id": "F6v_1wHtG2nS"
      }
    },
    {
      "cell_type": "markdown",
      "source": [
        "# **GitHub Link -**"
      ],
      "metadata": {
        "id": "w6K7xa23Elo4"
      }
    },
    {
      "cell_type": "markdown",
      "source": [
        "Provide your GitHub Link here."
      ],
      "metadata": {
        "id": "h1o69JH3Eqqn"
      }
    },
    {
      "cell_type": "markdown",
      "source": [
        "# **Problem Statement**\n"
      ],
      "metadata": {
        "id": "yQaldy8SH6Dl"
      }
    },
    {
      "cell_type": "markdown",
      "source": [
        "\n",
        "Since 2008, Airbnb has revolutionized travel by offering personalized experiences, with data analysis of millions of listings crucial for business decisions and platform insights. The dataset, containing around 49,000 observations, helps analyze host behavior, customer preferences, and market trends to guide strategic actions."
      ],
      "metadata": {
        "id": "DpeJGUA3kjGy"
      }
    },
    {
      "cell_type": "markdown",
      "source": [
        "# ***Let's Begin !***"
      ],
      "metadata": {
        "id": "O_i_v8NEhb9l"
      }
    },
    {
      "cell_type": "markdown",
      "source": [
        "## ***1. Know Your Data***"
      ],
      "metadata": {
        "id": "HhfV-JJviCcP"
      }
    },
    {
      "cell_type": "markdown",
      "source": [
        "### Import Libraries"
      ],
      "metadata": {
        "id": "Y3lxredqlCYt"
      }
    },
    {
      "cell_type": "code",
      "source": [
        "# Import Libraries\n",
        "import numpy as np\n",
        "import pandas as pd\n",
        "from numpy import math\n",
        "from scipy.stats import *\n",
        "import seaborn as sns\n",
        "import matplotlib.pyplot as plt\n",
        "import sys"
      ],
      "metadata": {
        "id": "M8Vqi-pPk-HR"
      },
      "execution_count": null,
      "outputs": []
    },
    {
      "cell_type": "markdown",
      "source": [
        "### Dataset Loading"
      ],
      "metadata": {
        "id": "3RnN4peoiCZX"
      }
    },
    {
      "cell_type": "code",
      "source": [
        "# Load Dataset\n",
        "df = pd.read_csv('/content/Airbnb NYC 2019.csv')"
      ],
      "metadata": {
        "id": "4CkvbW_SlZ_R"
      },
      "execution_count": null,
      "outputs": []
    },
    {
      "cell_type": "markdown",
      "source": [
        "### Dataset First View"
      ],
      "metadata": {
        "id": "x71ZqKXriCWQ"
      }
    },
    {
      "cell_type": "code",
      "source": [
        "# Dataset First Look\n",
        "df.head()\n"
      ],
      "metadata": {
        "id": "LWNFOSvLl09H"
      },
      "execution_count": null,
      "outputs": []
    },
    {
      "cell_type": "code",
      "source": [
        "df.tail()"
      ],
      "metadata": {
        "id": "Bl1dvkcNddQ6"
      },
      "execution_count": null,
      "outputs": []
    },
    {
      "cell_type": "markdown",
      "source": [
        "Dataset's list of column names"
      ],
      "metadata": {
        "id": "Ea7xd04Fd9Lu"
      }
    },
    {
      "cell_type": "code",
      "source": [
        "\n",
        "print(df.columns)\n"
      ],
      "metadata": {
        "id": "l3gEr5tsd-8t"
      },
      "execution_count": null,
      "outputs": []
    },
    {
      "cell_type": "markdown",
      "source": [
        "### Dataset Rows & Columns count"
      ],
      "metadata": {
        "id": "7hBIi_osiCS2"
      }
    },
    {
      "cell_type": "code",
      "source": [
        "# Dataset Rows & Columns count\n",
        "print(df.shape)\n"
      ],
      "metadata": {
        "id": "Kllu7SJgmLij"
      },
      "execution_count": null,
      "outputs": []
    },
    {
      "cell_type": "markdown",
      "source": [
        "\n",
        "Size of Dataset"
      ],
      "metadata": {
        "id": "mzkODMLxeT8u"
      }
    },
    {
      "cell_type": "code",
      "source": [
        "print(sys.getsizeof(df))"
      ],
      "metadata": {
        "id": "0p5uZyXEeU92"
      },
      "execution_count": null,
      "outputs": []
    },
    {
      "cell_type": "markdown",
      "source": [
        "### Dataset Information"
      ],
      "metadata": {
        "id": "JlHwYmJAmNHm"
      }
    },
    {
      "cell_type": "code",
      "source": [
        "# Dataset Info\n",
        "\n",
        "print(df.info())"
      ],
      "metadata": {
        "id": "e9hRXRi6meOf"
      },
      "execution_count": null,
      "outputs": []
    },
    {
      "cell_type": "markdown",
      "source": [
        "Data types of the columns of Dataset"
      ],
      "metadata": {
        "id": "fryf1xMDek0A"
      }
    },
    {
      "cell_type": "code",
      "source": [
        "print(df.dtypes)\n"
      ],
      "metadata": {
        "id": "xOcQ6xQEen5m"
      },
      "execution_count": null,
      "outputs": []
    },
    {
      "cell_type": "markdown",
      "source": [
        "#### Duplicate Values"
      ],
      "metadata": {
        "id": "35m5QtbWiB9F"
      }
    },
    {
      "cell_type": "code",
      "source": [
        "print(df.duplicated().sum())"
      ],
      "metadata": {
        "id": "0_e-C-VGe-Xd"
      },
      "execution_count": null,
      "outputs": []
    },
    {
      "cell_type": "markdown",
      "source": [
        "#### Missing Values/Null Values"
      ],
      "metadata": {
        "id": "PoPl-ycgm1ru"
      }
    },
    {
      "cell_type": "code",
      "source": [
        "# Missing Values/Null Values Count\n",
        "print(df.isnull().sum())\n"
      ],
      "metadata": {
        "id": "GgHWkxvamxVg"
      },
      "execution_count": null,
      "outputs": []
    },
    {
      "cell_type": "code",
      "source": [
        "# Visualizing the missing values\n",
        "print(\"Visualization of the missing values : \\n\")\n",
        "plt.figure(figsize=(10,6))\n",
        "df.isnull().sum().plot(kind='bar')\n",
        "plt.title('\\nMissing Values\\n')\n",
        "plt.xlabel('\\nVariables\\n')\n",
        "plt.ylabel('\\nCount\\n')\n",
        "plt.plot()\n",
        "plt.show()"
      ],
      "metadata": {
        "id": "3q5wnI3om9sJ"
      },
      "execution_count": null,
      "outputs": []
    },
    {
      "cell_type": "markdown",
      "source": [
        "### What did you know about your dataset?"
      ],
      "metadata": {
        "id": "H0kj-8xxnORC"
      }
    },
    {
      "cell_type": "markdown",
      "source": [
        "The Airbnb dataset contains detailed information on Airbnb listings across New York City, including attributes like location, room type, price, and availability. The dataset includes around 49,000 instances, with 16 different attributes."
      ],
      "metadata": {
        "id": "gfoNAAC-nUe_"
      }
    },
    {
      "cell_type": "markdown",
      "source": [
        "## ***2. Understanding Your Variables***"
      ],
      "metadata": {
        "id": "nA9Y7ga8ng1Z"
      }
    },
    {
      "cell_type": "code",
      "source": [
        "# Dataset Columns\n",
        "print(df.columns)\n"
      ],
      "metadata": {
        "id": "j7xfkqrt5Ag5"
      },
      "execution_count": null,
      "outputs": []
    },
    {
      "cell_type": "markdown",
      "source": [
        "Dataset Description"
      ],
      "metadata": {
        "id": "Y8lQP5PYfhIm"
      }
    },
    {
      "cell_type": "code",
      "source": [
        "# Dataset Describe\n",
        "print(df.describe(include='all'))\n"
      ],
      "metadata": {
        "id": "DnOaZdaE5Q5t"
      },
      "execution_count": null,
      "outputs": []
    },
    {
      "cell_type": "markdown",
      "source": [
        "### Variables Description"
      ],
      "metadata": {
        "id": "PBTbrJXOngz2"
      }
    },
    {
      "cell_type": "markdown",
      "source": [
        "The variable description for the Airbnb dataset :-\n",
        "\n",
        "**id:** Unique identifier for each listing in the dataset.\n",
        "\n",
        "**name:** Title or name of the listing as provided by the host. Text field that often includes a brief description or key features of the listing.\n",
        "\n",
        "**neighbourhood_group**: Broad geographic region where the listing is located.Categories include Manhattan, Brooklyn, Queens, The Bronx, and Staten Island.\n",
        "\n",
        "**neighbourhood:** Specific neighborhood within the region. Examples include Williamsburg, Harlem, and SoHo.\n",
        "\n",
        "**room_type:** Type of room being offered. Categories include Entire home/apt, Private room, and Shared room.\n",
        "\n",
        "**price:** Price per night for the listing, in USD. Ranges from 10 to 10000.\n",
        "\n",
        "**minimum_nights:** Minimum number of nights required for booking the listing. Ranges from 1 to 1250.\n",
        "\n",
        "**number_of_reviews:** Total number of reviews the listing has received. Ranges from 0 to 1000.\n",
        "\n",
        "**last_review:** Date when the last review was posted. Format is YYYY-MM-DD.\n",
        "\n",
        "**reviews_per_month:** Average number of reviews per month for the listing. Ranges from 0 to 100.\n",
        "\n",
        "**calculated_host_listings_count:** Number of listings that the host has in total. This value represents how many different properties a host manages, indicating their level of involvement on the platform. Numeric value.\n",
        "\n",
        "**host_id:** Unique identifier for the host of the listing. Numeric value.\n",
        "\n",
        "**host_name:** Name of the host. Text field.\n",
        "\n",
        "**latitude:** Latitude coordinate of the listing’s location. Ranges from 40.5 to 45.0.\n",
        "\n",
        "**longitude:** Longitude coordinate of the listing’s location. Ranges from -74.2 to -73.7.\n",
        "\n",
        "**availability_365:** Number of days the listing is available for booking in a year. Ranges from 0 to 365."
      ],
      "metadata": {
        "id": "aJV4KIxSnxay"
      }
    },
    {
      "cell_type": "markdown",
      "source": [
        "### Check Unique Values for each variable."
      ],
      "metadata": {
        "id": "u3PMJOP6ngxN"
      }
    },
    {
      "cell_type": "code",
      "source": [
        "# Check Unique Values for each variable.\n",
        "df.nunique()"
      ],
      "metadata": {
        "id": "zms12Yq5n-jE"
      },
      "execution_count": null,
      "outputs": []
    },
    {
      "cell_type": "markdown",
      "source": [
        "## 3. ***Data Wrangling***"
      ],
      "metadata": {
        "id": "dauF4eBmngu3"
      }
    },
    {
      "cell_type": "markdown",
      "source": [
        "\n",
        "**Filling Missing Values**\n",
        "\n"
      ],
      "metadata": {
        "id": "bKJF3rekwFvQ"
      }
    },
    {
      "cell_type": "code",
      "source": [
        "df['reviews_per_month'].fillna(df['reviews_per_month'].mean(),inplace=True)"
      ],
      "metadata": {
        "id": "wk-9a2fpoLcV"
      },
      "execution_count": null,
      "outputs": []
    },
    {
      "cell_type": "markdown",
      "source": [
        "Reviews per month column had a lot of missing rows but is important for analysis,hence missing values will be replaced with the mean of that column"
      ],
      "metadata": {
        "id": "PYmpncoY0G8u"
      }
    },
    {
      "cell_type": "markdown",
      "source": [
        "**Capitalize First Letter of Each Column Name**"
      ],
      "metadata": {
        "id": "m87fpHgqGt_X"
      }
    },
    {
      "cell_type": "code",
      "source": [
        "df.columns = [col.capitalize() for col in df.columns]"
      ],
      "metadata": {
        "id": "0HVp1QRjGvs4"
      },
      "execution_count": null,
      "outputs": []
    },
    {
      "cell_type": "markdown",
      "source": [
        "**Dropping columns with a lot of missing values**"
      ],
      "metadata": {
        "id": "37fhZI6Bzz5q"
      }
    },
    {
      "cell_type": "code",
      "source": [
        "df.drop(columns=['Last_review'], axis=1, inplace=True)"
      ],
      "metadata": {
        "id": "4eUOaRTvX1Of"
      },
      "execution_count": null,
      "outputs": []
    },
    {
      "cell_type": "markdown",
      "source": [
        "Revenue"
      ],
      "metadata": {
        "id": "mOQDqhbw335s"
      }
    },
    {
      "cell_type": "code",
      "source": [
        "# Calculating 'Revenue' as Price * Minimum_nights\n",
        "df['Revenue'] = df['Price'] * df['Minimum_nights']\n",
        "#sum the revenue\n",
        "total_revenue=df['Revenue'].sum()\n",
        "# Display the updated DataFrame\n",
        "print(\"Updated DataFrame with 'Revenue' column:\")\n",
        "print(df.info())\n",
        "print (total_revenue)"
      ],
      "metadata": {
        "id": "Nakm1eS8350l"
      },
      "execution_count": null,
      "outputs": []
    },
    {
      "cell_type": "markdown",
      "source": [
        "last_review have many missing values and they are not of any importance for analysis,hence they will be deleted"
      ],
      "metadata": {
        "id": "xKPIzaYsLVlx"
      }
    },
    {
      "cell_type": "markdown",
      "source": [
        "**Filling empty rows with Unknown**"
      ],
      "metadata": {
        "id": "BL9VRziP-S5u"
      }
    },
    {
      "cell_type": "code",
      "source": [
        "df.fillna('Unknown', inplace=True)"
      ],
      "metadata": {
        "id": "CBsqSalQAjfr"
      },
      "execution_count": null,
      "outputs": []
    },
    {
      "cell_type": "markdown",
      "source": [
        "Checking the total no. of null values in the dataset"
      ],
      "metadata": {
        "id": "KHUFxDiw0LmP"
      }
    },
    {
      "cell_type": "code",
      "source": [
        "df.isnull().sum()"
      ],
      "metadata": {
        "id": "GfFH71lz8T3R"
      },
      "execution_count": null,
      "outputs": []
    },
    {
      "cell_type": "markdown",
      "source": [
        "**Dataset Rows & Columns count after data wrangling**"
      ],
      "metadata": {
        "id": "Kwf-bO4XvOs1"
      }
    },
    {
      "cell_type": "code",
      "source": [
        "print(df.shape)\n"
      ],
      "metadata": {
        "id": "vGkZOVhpvON2"
      },
      "execution_count": null,
      "outputs": []
    },
    {
      "cell_type": "code",
      "source": [
        "df.head()"
      ],
      "metadata": {
        "id": "ULPoWML68c2g"
      },
      "execution_count": null,
      "outputs": []
    },
    {
      "cell_type": "code",
      "source": [
        "df.tail()"
      ],
      "metadata": {
        "id": "KG1Wd70E8nyI"
      },
      "execution_count": null,
      "outputs": []
    },
    {
      "cell_type": "markdown",
      "source": [
        "### What all manipulations have you done and insights you found?"
      ],
      "metadata": {
        "id": "MSa1f5Uengrz"
      }
    },
    {
      "cell_type": "markdown",
      "source": [
        "Missing data in the reviews_per_month column was significant but crucial for analysis, so it was replaced with the mean value to maintain the dataset's completeness.\n",
        "\n",
        "By capitalizing the first letter of each column name, the dataset is more consistent and easier to work with.\n",
        "\n",
        "Dropping columns with too many missing values helps improve the quality of the data, focusing on the most relevant features for analysis."
      ],
      "metadata": {
        "id": "LbyXE7I1olp8"
      }
    },
    {
      "cell_type": "markdown",
      "source": [
        "## ***4. Data Vizualization, Storytelling & Experimenting with charts : Understand the relationships between variables***"
      ],
      "metadata": {
        "id": "GF8Ens_Soomf"
      }
    },
    {
      "cell_type": "markdown",
      "source": [
        "**1.Most common room types**"
      ],
      "metadata": {
        "id": "0wOQAZs5pc--"
      }
    },
    {
      "cell_type": "code",
      "source": [
        "# Plotting the Pie chart for showing the proportion of each room type in the whole area .\n",
        "print(\"Pie Chart of the Most common room types : \\n\\n\")\n",
        "room_type = df.Room_type.value_counts()\n",
        "room_type.plot(kind='pie', figsize=(8,8), title='Most frequent room types', fontsize=10, explode=(0,0,0), startangle=90, colors=['green','orange','red'], autopct='%1.1f%%')\n",
        "plt.title('\\nPie chart of room type\\n', fontweight='bold', pad=10)\n",
        "plt.legend()\n",
        "plt.ylabel(\" \")\n",
        "plt.show()\n",
        "\n"
      ],
      "metadata": {
        "id": "7v_ESjsspbW7"
      },
      "execution_count": null,
      "outputs": []
    },
    {
      "cell_type": "markdown",
      "source": [
        "This pie chart shows the proportion percentage of different room types in the dataset. This makes it easy to compare and see which room type is most common at a glance.\n",
        "\n",
        "\n",
        "percentage of \"Entire home/apt\" room type = 52.0 %\n",
        "\n",
        "\n",
        "percentage of \"Privarte room\" room type = 45.7 %\n",
        "\n",
        "\n",
        "percentage of \"Shared room\" room type = 2.4 %\n",
        "\n",
        "\n",
        "52.0 % customers demand \"Entire home\" and 45.7 % customers demand the \"Private room\" and there are very less customers (2.4 %) who have no problem of having \"Shared room\". This insight information can help hosts and investors focus on what customers prefer, leading to better business decisions."
      ],
      "metadata": {
        "id": "XESiWehPqBRc"
      }
    },
    {
      "cell_type": "markdown",
      "source": [
        "**2.The most common neighbourhood_group**"
      ],
      "metadata": {
        "id": "KSlN3yHqYklG"
      }
    },
    {
      "cell_type": "code",
      "source": [
        "\n",
        "# Plotting the Pie Chart for showing the proportion of the different neighbourhood groups in the whoe area.\n",
        "print(\"Pie Chart of the neighbourhod group : \\n\\n\")\n",
        "neighbourhood_Group = df.Neighbourhood_group.value_counts()\n",
        "neighbourhood_Group.plot(kind='pie', figsize=(8,8), title='Most frequent neighbourhood_group types', fontsize=10, explode=(0,0,0.1,0.1,0), startangle=90, colors=['green','orange','red'] , autopct='%1.1f%%')\n",
        "plt.title('\\nPie chart of neighbourhood_group types\\n', fontweight='bold', pad=10)\n",
        "plt.legend()\n",
        "plt.ylabel(\" \")\n",
        "plt.show()\n",
        "\n"
      ],
      "metadata": {
        "id": "R4YgtaqtYklH"
      },
      "execution_count": null,
      "outputs": []
    },
    {
      "cell_type": "markdown",
      "source": [
        "This pie chart visually represents the share percentage of each neighborhood group in the dataset, making it simple to understand which areas are most popular for Airbnb listings.\n",
        "\n",
        "This pie chart shows that manahatten (44.3 %) and Brooklyn (41.1 %) are the prime locations for customers (Tourists) and some customers also prefer Queens (11.6 %) , but there are very fewer customers who perfer Bronx and Staten Island as their prime location.\n",
        "\n",
        "These insights guide investors and hosts to focus on high-demand areas, ensuring better returns. This visualization highlights the growth opportunities in popular neighborhoods, while less popular areas might require different strategies."
      ],
      "metadata": {
        "id": "PSx9atu2YklI"
      }
    },
    {
      "cell_type": "markdown",
      "source": [
        "**3.Top 10 Host IDs**"
      ],
      "metadata": {
        "id": "EM7whBJCYoAo"
      }
    },
    {
      "cell_type": "code",
      "source": [
        "# Assuming `df` is already defined and contains the data\n",
        "top10_hi = df.Host_id.value_counts().head(10)\n",
        "print(\"Top 10 Host IDs: \", top10_hi)\n",
        "print(\"\\n\\nThe Horizontal Bar Chart between host IDs and the number of Airbnbs under each of the hosts:\\n\\n\")\n",
        "\n",
        "# Plot the horizontal bar chart using Matplotlib's default color cycle\n",
        "top10_hi.plot(kind='barh', color=plt.cm.tab10.colors)\n",
        "\n",
        "# Add title and labels\n",
        "plt.title('\\nTop 10 Host IDs\\n')\n",
        "plt.xlabel('\\nNumber of Listings\\n')\n",
        "plt.ylabel('\\nHost ID\\n')\n",
        "\n",
        "# Display the chart\n",
        "plt.show()"
      ],
      "metadata": {
        "id": "t6GMdE67YoAp"
      },
      "execution_count": null,
      "outputs": []
    },
    {
      "cell_type": "markdown",
      "source": [
        "This horizontal bar chart clearly shows the top 10 hosts with the most listings, which makes it easy to compare their relative dominance in the market.\n",
        "\n",
        "This chart shows that a few hosts control a significant number of listings, indicating a concentrated market where certain hosts have a strong presence and potential influence over pricing and availability.\n",
        "\n",
        "These insights can help in targeting collaborations with top hosts for strategic partnerships or marketing efforts. If these key hosts decide to leave the platform, the market concentration could indicate a potential risk which might reduce listing availability in popular areas."
      ],
      "metadata": {
        "id": "4jstXR6OYoAp"
      }
    },
    {
      "cell_type": "markdown",
      "source": [
        "**4.Distribution of Airbnb Listings based on Neighbourhood group**\n"
      ],
      "metadata": {
        "id": "4Of9eVA-YrdM"
      }
    },
    {
      "cell_type": "code",
      "source": [
        "# Plotting the Count Plot of distribution of Airbnb Listings based on Neighbourhood group\n",
        "print(\"Count Plot of distribution of Airbnb Listings based on Neighbourhood group : \\n\\n\")\n",
        "plt.figure(figsize=(10,5))\n",
        "sns.countplot(x='Neighbourhood_group', data=df,palette=\"Set1\",width=0.3)\n",
        "plt.title('\\nDistribution of Airbnb Listings based on Neighbourhood group\\n')\n",
        "plt.xlabel('\\nneighbourhood_group\\n')\n",
        "plt.ylabel('\\nCount\\n')\n",
        "plt.show()\n"
      ],
      "metadata": {
        "id": "irlUoxc8YrdO"
      },
      "execution_count": null,
      "outputs": []
    },
    {
      "cell_type": "markdown",
      "source": [
        "This count plot shows the distribution of Airbnb listings across different neighborhood groups, which makes it easy to compare how many listings each area has.\n",
        "\n",
        "This chart presents that the certain neighborhood groups, like Manhattan and Brooklyn, have a much higher concentration of Airbnb listings, which indicates that these are the most popular areas for hosts and guests.\n",
        "\n",
        "These insights can guide investment decisions by highlighting areas with high demand, ensuring better returns.\n",
        "\n",
        "Shortcoming : Oversaturation in popular areas could lead to increased competition, potentially lowering prices and profitability for hosts. Diversifying into less saturated areas might balance this risk."
      ],
      "metadata": {
        "id": "jLNxxz7MYrdP"
      }
    },
    {
      "cell_type": "markdown",
      "source": [
        "**5.Distribution of Airbnb Listings based on room type**"
      ],
      "metadata": {
        "id": "bamQiAODYuh1"
      }
    },
    {
      "cell_type": "code",
      "source": [
        "# Plotting count plot for showing the distribution of Airbnb Listings based on room type\n",
        "print(\"Count Plot of distribution of Airbnb Listings based on room type : \\n\\n\")\n",
        "plt.figure(figsize=(6,4))\n",
        "sns.countplot(x='Room_type', data=df,width=0.4,palette=\"Set1\")\n",
        "plt.title('\\nDistribution of Airbnb Listings based on room type\\n')\n",
        "plt.xlabel('\\nroom_type\\n')\n",
        "plt.ylabel('\\nCount\\n')\n",
        "plt.show()"
      ],
      "metadata": {
        "id": "TIJwrbroYuh3"
      },
      "execution_count": null,
      "outputs": []
    },
    {
      "cell_type": "markdown",
      "source": [
        "This count plot visually represents the distribution of different room types across Airbnb listings, which makes it easy to see which types are most and least common.\n",
        "\n",
        "The chart shows that \"Entire home/apt\" is the most common room type, which indicates a strong demand for whole apartments or homes.\n",
        "\n",
        "This chart suggests tourists prefer privacy and space (Private room), while other room types like \"Shared room\" are less frequent.\n",
        "\n",
        "Understanding that \"Entire home/apt\" is preferred can guide hosts and investors to focus on offering whole apartments to meet demand.\n",
        "\n",
        "Shortcoming : An oversupply of popular room types could lead to increased competition and potentially lower prices if not managed properly."
      ],
      "metadata": {
        "id": "uyqkiB8YYuh3"
      }
    },
    {
      "cell_type": "markdown",
      "source": [
        "**6.TOP 10 Host names**"
      ],
      "metadata": {
        "id": "cNGOvLkq2Csm"
      }
    },
    {
      "cell_type": "code",
      "source": [
        "# Assuming `df` is already defined and contains the data\n",
        "top10_hosts = df.Host_name.value_counts().head(10)\n",
        "\n",
        "# Print the top 10 host names\n",
        "print(\"Top 10 Host Names:\\n\", top10_hosts)\n",
        "\n",
        "# Plot the horizontal bar chart\n",
        "print(\"\\n\\nThe Horizontal Bar Chart between host names and the number of Airbnbs under each host:\\n\\n\")\n",
        "plt.figure(figsize=(8, 6))  # Adjust the figure size to reduce space\n",
        "sns.barplot(x=top10_hosts.values, y=top10_hosts.index, palette=\"viridis\")\n",
        "\n",
        "# Set title and labels with reduced margins\n",
        "plt.title('\\nTop 10 Hosts by Number of Listings\\n', fontsize=14)\n",
        "plt.xlabel('\\nNumber of Listings\\n', fontsize=12)\n",
        "plt.ylabel('\\nHost Name\\n', fontsize=12)\n",
        "\n",
        "# Adjust layout and invert the y-axis to display the highest value at the top\n",
        "plt.tight_layout()  # This helps in reducing the space and improving layout\n",
        "plt.gca().invert_yaxis()\n",
        "plt.show()"
      ],
      "metadata": {
        "id": "YgveMKqv2Ka8"
      },
      "execution_count": null,
      "outputs": []
    },
    {
      "cell_type": "markdown",
      "source": [
        "Michael leads the Airbnb market with the highest number of listings, managing over 400 properties. David follows closely as the second most active host, holding a slightly smaller number of listings than Michael. In third place is Sonder (NYC), a professional hosting organization, emphasizing its significant role as a large-scale operator on the platform.\n",
        "\n",
        "Other hosts, like John, Alex, and Blueground, manage substantial numbers of properties, suggesting they may be property management companies or professional operators rather than individual hosts. Jessica and Maria, while ranked at the lower end of the top 10, still manage around 150-200 listings each, contributing notably to the overall distribution.\n",
        "\n",
        "The top hosts dominate a large portion of the market, revealing that a small number of hosts control a significant share of listings. This concentration underscores the strong presence of professional operators, such as property management companies, in Airbnb's ecosystem, alongside individual hosts. The landscape is competitive, with both large-scale operators and individual hosts coexisting, albeit with varying levels of influence."
      ],
      "metadata": {
        "id": "UlCyoAZmMOF1"
      }
    },
    {
      "cell_type": "markdown",
      "source": [
        "**7.TOP 10 HOST NAMES BY REVENUE**"
      ],
      "metadata": {
        "id": "A_-ChYM368BM"
      }
    },
    {
      "cell_type": "code",
      "source": [
        "# Calculate total revenue per host\n",
        "Host_revenue = df.groupby('Host_name')['Revenue'].sum().reset_index()\n",
        "\n",
        "# Display the top 10 hosts by revenue\n",
        "print(Host_revenue.nlargest(10, 'Revenue'))\n",
        "\n",
        "# Create a bar chart for the top 10 hosts by revenue\n",
        "plt.figure(figsize=(10, 6))\n",
        "sns.barplot(y='Host_name', x='Revenue', data=Host_revenue.nlargest(10, 'Revenue'), palette=\"Spectral\")  # Using 'Spectral' for a vibrant look\n",
        "plt.title('Top 10 Host Names by Revenue')\n",
        "plt.xlabel('Total Revenue')\n",
        "plt.ylabel('Host Name')\n",
        "plt.show()"
      ],
      "metadata": {
        "id": "re3nqcCk8yT8"
      },
      "execution_count": null,
      "outputs": []
    },
    {
      "cell_type": "markdown",
      "source": [
        "The chart reveals which neighbourhood groups generate the highest and lowest average revenue, identifying areas with significant earnings and those with potential for growth."
      ],
      "metadata": {
        "id": "i3wuW7hUM1fS"
      }
    },
    {
      "cell_type": "markdown",
      "source": [
        "**8.Top 10 Neighbourhood**"
      ],
      "metadata": {
        "id": "olUbaPfq29El"
      }
    },
    {
      "cell_type": "code",
      "source": [
        "# Top 10 neighborhoods\n",
        "top10_neighborhoods = df.Neighbourhood.value_counts().head(10)\n",
        "\n",
        "# Plot the horizontal bar chart using Matplotlib's default color cycle\n",
        "top10_neighborhoods.plot(kind='barh', color=plt.cm.tab10.colors)\n",
        "\n",
        "# Add title and labels\n",
        "plt.title('\\nTop 10 Neighborhoods\\n', fontsize=14)\n",
        "plt.xlabel('\\nNumber of Listings\\n', fontsize=12)\n",
        "plt.ylabel('\\nNeighborhood\\n', fontsize=12)\n",
        "\n",
        "# Display the chart\n",
        "plt.show()"
      ],
      "metadata": {
        "id": "jCV-pNv82-GM"
      },
      "execution_count": null,
      "outputs": []
    },
    {
      "cell_type": "markdown",
      "source": [
        "The horizontal bar chart displays the top 10 neighborhoods ranked by the number of listings.\n",
        "\n",
        "The y-axis represents neighborhoods, while the x-axis shows the number of listings.\n",
        "\n",
        "Williamsburg has the highest number of listings, close to 4,000.\n",
        "\n",
        "Bedford-Stuyvesant follows as the second highest with approximately 3,500 listings.\n",
        "\n",
        "Harlem and Bushwick have moderate numbers, each with over 2,000 listings.\n",
        "\n",
        "Upper West Side, Hell's Kitchen, East Village, and Upper East Side have similar listing counts, ranging between 1,000 and 1,500.\n",
        "\n",
        "Crown Heights and Midtown have the fewest listings among the top 10, each under 1,000.\n",
        "\n",
        "The chart highlights listing distribution across key neighborhoods.\n",
        "\n",
        "\n",
        "\n",
        "\n",
        "\n"
      ],
      "metadata": {
        "id": "0oVwIn94Ndrr"
      }
    },
    {
      "cell_type": "markdown",
      "source": [
        "**Average revenue by neighbourhood group**"
      ],
      "metadata": {
        "id": "4C3mgcPxkI7U"
      }
    },
    {
      "cell_type": "code",
      "source": [
        "# Calculate the average revenue by neighborhood group\n",
        "neighbourhood_group_revenue = df.groupby('Neighbourhood_group')['Revenue'].mean().reset_index()\n",
        "\n",
        "# Create a bar chart using Seaborn's default color palette\n",
        "plt.figure(figsize=(10, 6))\n",
        "sns.barplot(\n",
        "    x='Neighbourhood_group',\n",
        "    y='Revenue',\n",
        "    data=neighbourhood_group_revenue,\n",
        "    palette='tab10'  # Use the default `tab10` color palette\n",
        ")\n",
        "\n",
        "# Add title and labels\n",
        "plt.title('Average Revenue by Neighbourhood Group', fontsize=16)\n",
        "plt.xlabel('Neighbourhood Group', fontsize=12)\n",
        "plt.ylabel('Average Revenue', fontsize=12)\n",
        "\n",
        "# Display the chart\n",
        "plt.show()"
      ],
      "metadata": {
        "id": "mBk8U9EUkTey"
      },
      "execution_count": null,
      "outputs": []
    },
    {
      "cell_type": "markdown",
      "source": [
        "The chart reveals which neighbourhood groups generate the highest and lowest average revenue, identifying areas with significant earnings and those with potential for growth."
      ],
      "metadata": {
        "id": "05TNwdcgEMjP"
      }
    },
    {
      "cell_type": "markdown",
      "source": [
        "**9.Category count plot between room type and neighbourhood group**"
      ],
      "metadata": {
        "id": "OH-pJp9IphqM"
      }
    },
    {
      "cell_type": "code",
      "source": [
        "# Plotting the Category count plot between room type and neighbourhood group\n",
        "print(\"Category count plot between room type and neighbourhood group : \\n\\n\")\n",
        "sns.catplot(x='Room_type', kind='count', hue='Neighbourhood_group', data=df)\n",
        "plt.title('\\nCategory count plot between room type and neighbourhood group\\n')\n",
        "plt.xlabel('\\nroom_type\\n')\n",
        "plt.ylabel('\\nCount\\n')\n",
        "plt.show()"
      ],
      "metadata": {
        "id": "kuRf4wtuphqN"
      },
      "execution_count": null,
      "outputs": []
    },
    {
      "cell_type": "markdown",
      "source": [
        "This catplot compares the distribution of room types across different neighborhood groups, providing insights into which room types are popular in each area.\n",
        "\n",
        "The chart shows variations in room type preferences by neighborhood. For instance, \"Entire home/apt\" and \"Private room\" are more common in central areas like \"Manhattan\" and \"Brooklyn\" , while other room types could be more prevalent in suburban neighborhoods.\n",
        "\n",
        "These insights can help tailor listings to meet specific neighborhood preferences by optimizing the appeal and profitability of Airbnb offerings.\n",
        "\n",
        "Shortcoming : If certain room types are overrepresented in specific areas, it might lead to market saturation, affecting pricing and competition negatively."
      ],
      "metadata": {
        "id": "VECbqPI7phqN"
      }
    },
    {
      "cell_type": "markdown",
      "source": [
        "**10.Correlation among features of Airbnb Bookings**"
      ],
      "metadata": {
        "id": "BZR9WyysphqO"
      }
    },
    {
      "cell_type": "code",
      "source": [
        "# Plotting the Correlation Heatmap of features of Airbnb Bookings\n",
        "print(\"Correlation Heatmap of features of Airbnb Bookings : \\n\\n\")\n",
        "numeric_df = df.select_dtypes(include=[np.number])\n",
        "corr_matrix = numeric_df.corr()\n",
        "mask = np.triu(np.ones_like(corr_matrix, dtype=bool))\n",
        "plt.figure(figsize=(12, 8))\n",
        "cmap = sns.diverging_palette(220, 10, as_cmap=True)\n",
        "sns.heatmap(corr_matrix, mask=mask, cmap='coolwarm', vmax=0.3, center=0, square=True, linewidths=.5, annot=True, fmt='.2f')\n",
        "plt.title('\\nCorrelation Heatmap of features of Airbnb Bookings\\n')\n",
        "plt.xlabel('\\nFeatures\\n')\n",
        "plt.ylabel('\\nFeatures\\n')\n",
        "plt.show()\n"
      ],
      "metadata": {
        "id": "TdPTWpAVphqO"
      },
      "execution_count": null,
      "outputs": []
    },
    {
      "cell_type": "markdown",
      "source": [
        "The heatmap visually represents the correlation between numeric variables, allowing us to easily identify which features are strongly related or independent from each other.\n",
        "\n",
        "The heatmap shows relationships between numeric features, such as how variables like price and number of reviews might be correlated. For example : Correlation heatmap shows a high correlation between number of reviews and reviews per month..\n",
        "\n",
        "Understanding these correlations can guide strategic decisions, such as pricing strategies or focusing on features that drive more reviews.\n",
        "\n",
        "Shortcoming : If some features are highly correlated, it might suggest redundancy, which could lead to inefficiencies if not managed properly."
      ],
      "metadata": {
        "id": "mZtgC_hjphqO"
      }
    },
    {
      "cell_type": "markdown",
      "source": [
        "**11.Relation between neighbourhood group and availability**"
      ],
      "metadata": {
        "id": "YJ55k-q6phqO"
      }
    },
    {
      "cell_type": "code",
      "source": [
        "# Plotting the Violin Plot between neighbourhood_group and availability_365\n",
        "print(\"Violin Plot between neighbourhood_group and availability_365 : \\n\\n\")\n",
        "plt.figure(figsize=(10,10))\n",
        "ax = sns.violinplot(data=df, x=\"Neighbourhood_group\", y=\"Availability_365\")\n",
        "plt.title('\\nRelation between neighbourhood group and availability\\n')\n",
        "plt.xlabel('\\nneighbourhood_group\\n')\n",
        "plt.ylabel('\\navailability_365\\n')\n",
        "plt.plot()\n",
        "plt.show()\n"
      ],
      "metadata": {
        "id": "B2aS4O1ophqO"
      },
      "execution_count": null,
      "outputs": []
    },
    {
      "cell_type": "markdown",
      "source": [
        "The violin plot shows the distribution of \"availability_365\" across different neighborhood groups and highlights both the spread and density of availability of rooms for 365 days a year within each neighborhood group.\n",
        "\n",
        "This plot shows the variations in listing availability across neighborhoods, such as whether some areas have more listings available year-round compared to others, and how this availability is distributed.\n",
        "\n",
        "Understanding availability trends by neighborhood can guide investment decisions and pricing strategies. For instance, Staten Island has the highest mean availability value around 220-250 days compared to others .\n",
        "\n",
        "Shortcoming : Areas with very high availability could indicate potential oversupply, affecting market dynamics."
      ],
      "metadata": {
        "id": "ngGi97qjphqQ"
      }
    },
    {
      "cell_type": "markdown",
      "source": [
        "**12.Relation between neighbourhood group and price**"
      ],
      "metadata": {
        "id": "U2RJ9gkRphqQ"
      }
    },
    {
      "cell_type": "code",
      "source": [
        "\n",
        "# Plotting the barplot between Neighbourhood_group and Price\n",
        "print(\"Barplot between neighbourhood group and price:\\n\\n\")\n",
        "plt.figure(figsize=(12, 8))\n",
        "\n",
        "# Create the barplot using Seaborn's default color palette\n",
        "sns.barplot(\n",
        "    data=df,\n",
        "    x='Neighbourhood_group',\n",
        "    y='Price',\n",
        "    palette='tab10'  # Use the default `tab10` color palette\n",
        ")\n",
        "\n",
        "# Add title and labels\n",
        "plt.title('\\nRelation between Neighbourhood Group and Price\\n', fontsize=16)\n",
        "plt.xlabel('\\nNeighbourhood Group\\n', fontsize=12)\n",
        "plt.ylabel('\\nPrice\\n', fontsize=12)\n",
        "\n",
        "# Display the chart\n",
        "plt.show()\n",
        "\n"
      ],
      "metadata": {
        "id": "GM7a4YP4phqQ"
      },
      "execution_count": null,
      "outputs": []
    },
    {
      "cell_type": "markdown",
      "source": [
        "The bar plot compares the average prices of Airbnb listings across different neighborhoods, making it easy to see which areas have higher or lower average rental costs.\n",
        "\n",
        "This chart shows variations in average listing prices between neighborhoods, displaying which areas are more expensive or affordable. For example : neighborhoods like Manhattan might have higher average prices compared to others.\n",
        "\n",
        "Understanding price trends across neighborhoods can help set competitive pricing strategies and target areas with higher potential revenue.\n",
        "\n",
        "Shortcoming : If Neighborhoods with high average prices are not managed well , they might also indicate higher competition, potentially affecting profitability ."
      ],
      "metadata": {
        "id": "Qp13pnNzphqQ"
      }
    },
    {
      "cell_type": "markdown",
      "source": [
        "**13.Airbnb Listings by Neighborhood Group**"
      ],
      "metadata": {
        "id": "dTRIVzmt5UFP"
      }
    },
    {
      "cell_type": "code",
      "source": [
        "# Plotting the Scatter plot with longitude and latitude, colored by neighbourhood_group\n",
        "print(\"Scatter Plot between latitude and longitude of each Airbnb listing by Neighbour group : \\n\\n\")\n",
        "plt.figure(figsize=(10, 6))\n",
        "# Scatter plot with longitude and latitude, colored by neighbourhood_group\n",
        "sns.scatterplot(x='Longitude', y='Latitude', hue='Neighbourhood_group', data=df)\n",
        "\n",
        " # Turn off the interactive mode to prevent plots from displaying twice\n",
        "plt.ioff()\n",
        "plt.title('\\nScatter Plot between latitude and longitude of each Airbnb listing\\n')\n",
        "plt.xlabel('\\nLongitude\\n')\n",
        "plt.ylabel('\\nLatitude\\n')\n",
        "plt.legend()\n",
        "plt.show()\n",
        "\n"
      ],
      "metadata": {
        "id": "mAQTIvtqp1cj"
      },
      "execution_count": null,
      "outputs": []
    },
    {
      "cell_type": "markdown",
      "source": [
        "The scatter plot visually displays the geographic distribution of Airbnb listings across different neighborhoods and shows how listings are spread out and grouped geographically.\n",
        "\n",
        "This chart reveals how listings are concentrated in various neighborhood groups, which can popular areas (Manhattan and Brooklyn) for Airbnb rentals and highlight any spatial patterns or clusters of high-density listings.\n",
        "\n",
        "Understanding the distribution of listings can guide towards strategic decisions, such as targeting areas with high demand or avoiding oversaturated neighborhoods. Insights into geographic patterns can help in optimizing pricing and marketing strategies.\n",
        "\n",
        "Shortcoming : An oversupply in certain areas might lead to increased competition and potentially lower prices if not managed carefully."
      ],
      "metadata": {
        "id": "ZYdMsrqVp1ck"
      }
    },
    {
      "cell_type": "markdown",
      "source": [
        "**14.Classification of rooms based on price**"
      ],
      "metadata": {
        "id": "n3dbpmDWp1ck"
      }
    },
    {
      "cell_type": "code",
      "source": [
        "# Function to categorize room prices\n",
        "def categorise(Hotel_Price):\n",
        "    if Hotel_Price <= 60:\n",
        "        return 'Low'\n",
        "    elif 60 < Hotel_Price <= 400:\n",
        "        return 'Medium'\n",
        "    else:\n",
        "        return 'High'\n",
        "\n",
        "# Apply categorization\n",
        "df['Room_Category'] = df['Price'].apply(categorise)\n",
        "\n",
        "# Plot the bar chart using Seaborn's default color palette\n",
        "room_category_counts = df['Room_Category'].value_counts()\n",
        "room_category_counts.plot(kind='bar', color=sns.color_palette(\"Set2\", n_colors=3))\n",
        "\n",
        "# Add title and labels\n",
        "plt.title(\"\\nClassification of Rooms Based on Price\\n\", fontsize=16)\n",
        "plt.xlabel(\"\\nRoom Category Based on Price\\n\", fontsize=12)\n",
        "plt.ylabel(\"\\nCount\\n\", fontsize=12)\n",
        "\n",
        "# Display the chart\n",
        "plt.show()"
      ],
      "metadata": {
        "id": "bwevp1tKp1ck"
      },
      "execution_count": null,
      "outputs": []
    },
    {
      "cell_type": "markdown",
      "source": [
        "This bar chart displays the distribution of Airbnb listings categorized by price range, allowing us to see how many listings fall into each price category (Low, Medium, High).\n",
        "\n",
        "This chart shows the frequency of listings in each price category, revealing whether most listings are budget-friendly, mid-range, or high-end. This helps identify the market segments most represented in the dataset.\n",
        "\n",
        "Understanding the distribution of listings by price range can help to tailor the marketing and pricing strategies to target the most common price segments, optimizing revenue potential.\n",
        "\n",
        "Shortcomig : If a large portion of listings is in the 'Low' category, it might indicate a saturated budget market, potentially leading to lower margins and higher competition."
      ],
      "metadata": {
        "id": "x-lUsV2mp1ck"
      }
    },
    {
      "cell_type": "markdown",
      "source": [
        "## **5. Solution to Business Objective**"
      ],
      "metadata": {
        "id": "JcMwzZxoAimU"
      }
    },
    {
      "cell_type": "markdown",
      "source": [
        "\n",
        "\n",
        "The exploratory data analysis have focussed on understanding key metrics like price distribution, room types, neighborhood popularity, and availability patterns in the Airbnb NYC 2019 dataset. By visualizing and analyzing these factors, we can identify trends and correlations that influence guest booking behavior and host success.\n",
        "This analysis has provided a guide to Airbnb in optimizing pricing strategies, enhancing customer satisfaction, and tailoring marketing efforts. Additionally, insights gained can help in improving platform features and introducing new services, ultimately driving growth and maintaining a competitive edge in the market."
      ],
      "metadata": {
        "id": "8G2x9gOozGDZ"
      }
    },
    {
      "cell_type": "markdown",
      "source": [
        "**Project Summary**"
      ],
      "metadata": {
        "id": "88cyTg6eFdjr"
      }
    },
    {
      "cell_type": "markdown",
      "source": [
        "\n",
        "\n",
        "\n",
        "**Project Overview**\n",
        "\n",
        "\n",
        "**Dataset:** Contains 49,000 entries with 16 attributes related to Airbnb listings in New York City.\n",
        "\n",
        "\n",
        "**Objective:** Perform Exploratory Data Analysis (EDA) to uncover insights for optimizing listings, investment decisions, and urban planning.\n",
        "\n",
        "\n",
        "**Key Findings**\n",
        "\n",
        "\n",
        "**Price Distribution:**\n",
        "\n",
        "Most properties are priced between $75 and $500 per night.\n",
        "Outliers exist at both high and low ends of the price spectrum.\n",
        "\n",
        "\n",
        "**Room Type Insights:**\n",
        "\n",
        "Entire homes/apartments dominate (52%), followed by private rooms (45.7%).\n",
        "Shared rooms are the least common (2.4%).\n",
        "\n",
        "\n",
        "**Neighborhood Analysis:**\n",
        "\n",
        "Manhattan and Brooklyn are the most popular neighborhoods, accounting for 85.4% of listings.\n",
        "Listings in Manhattan generally have higher prices.\n",
        "\n",
        "\n",
        "**Correlation Analysis:**\n",
        "\n",
        "\n",
        "Higher-priced properties have fewer reviews, suggesting high-end properties may be less frequently booked.\n",
        "\n",
        "\n",
        "**Availability Trends:**\n",
        "\n",
        "Staten Island has the highest average availability, while other boroughs show varied patterns.\n",
        "\n",
        "\n",
        "**Host Concentration:**\n",
        "\n",
        "A few hosts dominate the market with multiple listings, indicating a concentrated host presence.\n",
        "\n",
        "\n",
        "**Visual Insights**\n",
        "\n",
        "**Pie Charts:** Show distribution of room types and neighborhood popularity.\n",
        "\n",
        "\n",
        "\n",
        "**Bar Charts:** Highlight top hosts, neighborhoods, and room categories by price.\n",
        "\n",
        "\n",
        "**Scatter Plots:** Display geographic distribution of listings.\n",
        "\n",
        "\n",
        "**Heatmaps:** Show correlations between numeric features.\n",
        "\n",
        "\n",
        "**Business Recommendations**\n",
        "\n",
        "\n",
        "\n",
        "**For Hosts:**\n",
        "\n",
        "Focus on offering entire homes/apartments in popular neighborhoods.\n",
        "Competitive pricing is essential for high-demand areas like Manhattan.\n",
        "Consider unique offerings in underrepresented room types or areas.\n",
        "\n",
        "\n",
        "**For Airbnb:**\n",
        "\n",
        "Optimize platform features to highlight high-demand locations and room types.\n",
        "Develop promotional strategies during low-demand periods.\n",
        "Collaborate with top-performing hosts for marketing opportunities.\n",
        "\n"
      ],
      "metadata": {
        "id": "Na4FsQOSFWYz"
      }
    },
    {
      "cell_type": "markdown",
      "source": [
        "# **Conclusion**"
      ],
      "metadata": {
        "id": "gCX9965dhzqZ"
      }
    },
    {
      "cell_type": "markdown",
      "source": [
        "The analysis of the Airbnb NYC 2019 data showed important patterns in prices, room types, and popular neighborhoods.\n",
        "\n",
        "\n",
        "It helped identify which areas and room types are most in demand.\n",
        "\n",
        "\n",
        "The pricing trends can guide hosts to set competitive rates that attract more guests.\n",
        "\n",
        "\n",
        "Room preferences, like entire homes or shared spaces, can help Airbnb and hosts meet customer needs.\n",
        "\n",
        "\n",
        "Popular neighborhoods can become focus areas for improving services and experiences.\n",
        "\n",
        "\n",
        "Seasonal trends show when demand is higher or lower, helping with planning and promotions.\n",
        "\n",
        "\n",
        "This information helps Airbnb make smart decisions to improve customer satisfaction and grow the business.\n",
        "\n",
        "\n",
        "Overall, understanding these trends ensures Airbnb stays competitive in New York City."
      ],
      "metadata": {
        "id": "Fjb1IsQkh3yE"
      }
    }
  ]
}